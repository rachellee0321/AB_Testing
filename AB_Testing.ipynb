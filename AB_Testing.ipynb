{
 "cells": [
  {
   "cell_type": "markdown",
   "metadata": {},
   "source": [
    "  "
   ]
  },
  {
   "cell_type": "markdown",
   "metadata": {},
   "source": [
    "<h1 align=center>  A/B Testing in Python"
   ]
  },
  {
   "cell_type": "markdown",
   "metadata": {},
   "source": [
    "  "
   ]
  },
  {
   "cell_type": "markdown",
   "metadata": {},
   "source": [
    "__In this notebok, we go through steps for conducting an A/B experiment using a dataset from Kaggle. We will follow these steps:__\n",
    ">__1. Formulate Hypotheses__     \n",
    "__2. Clean and Explore Data__     \n",
    "__3. Design an Experiment__    \n",
    "&emsp;&emsp; __a. Unit of Diversion__   \n",
    "&emsp;&emsp; __b. Target Population__   \n",
    "&emsp;&emsp; __c. Choose Sample Size__   \n",
    "__4. Analyze Results__      \n",
    "&emsp;&emsp; __a. Chi-Square Test__   \n",
    "&emsp;&emsp; __b. Confidence Interval__  "
   ]
  },
  {
   "cell_type": "markdown",
   "metadata": {},
   "source": [
    "The A/B Testing dataset from Kaggle has these columns:\n",
    "- user_id\n",
    "- timestamp\n",
    "- group (control or  treatment)\n",
    "- landing_page (old_page or new_page): this is the type of landing page users see depending on which experiment group they are in.\n",
    "- converted (1-converted and 0-not converted): this is an indicator whether users converted (i.e., bought a product, subscribed to its services.) "
   ]
  },
  {
   "cell_type": "markdown",
   "metadata": {},
   "source": [
    "  "
   ]
  },
  {
   "cell_type": "markdown",
   "metadata": {},
   "source": [
    "## Part 0. Import Libraries and Data"
   ]
  },
  {
   "cell_type": "code",
   "execution_count": 1,
   "metadata": {},
   "outputs": [],
   "source": [
    "import numpy as np\n",
    "import pandas as pd\n",
    "import scipy.stats as stats\n",
    "import statsmodels.stats.api as sms\n",
    "import matplotlib as mpl\n",
    "import matplotlib.pyplot as plt\n",
    "import seaborn as sns\n",
    "from math import ceil"
   ]
  },
  {
   "cell_type": "code",
   "execution_count": 2,
   "metadata": {},
   "outputs": [
    {
     "data": {
      "text/html": [
       "<div>\n",
       "<style scoped>\n",
       "    .dataframe tbody tr th:only-of-type {\n",
       "        vertical-align: middle;\n",
       "    }\n",
       "\n",
       "    .dataframe tbody tr th {\n",
       "        vertical-align: top;\n",
       "    }\n",
       "\n",
       "    .dataframe thead th {\n",
       "        text-align: right;\n",
       "    }\n",
       "</style>\n",
       "<table border=\"1\" class=\"dataframe\">\n",
       "  <thead>\n",
       "    <tr style=\"text-align: right;\">\n",
       "      <th></th>\n",
       "      <th>user_id</th>\n",
       "      <th>timestamp</th>\n",
       "      <th>group</th>\n",
       "      <th>landing_page</th>\n",
       "      <th>converted</th>\n",
       "    </tr>\n",
       "  </thead>\n",
       "  <tbody>\n",
       "    <tr>\n",
       "      <th>0</th>\n",
       "      <td>851104</td>\n",
       "      <td>2017-01-21 22:11:48.556739</td>\n",
       "      <td>control</td>\n",
       "      <td>old_page</td>\n",
       "      <td>0</td>\n",
       "    </tr>\n",
       "    <tr>\n",
       "      <th>1</th>\n",
       "      <td>804228</td>\n",
       "      <td>2017-01-12 08:01:45.159739</td>\n",
       "      <td>control</td>\n",
       "      <td>old_page</td>\n",
       "      <td>0</td>\n",
       "    </tr>\n",
       "    <tr>\n",
       "      <th>2</th>\n",
       "      <td>661590</td>\n",
       "      <td>2017-01-11 16:55:06.154213</td>\n",
       "      <td>treatment</td>\n",
       "      <td>new_page</td>\n",
       "      <td>0</td>\n",
       "    </tr>\n",
       "  </tbody>\n",
       "</table>\n",
       "</div>"
      ],
      "text/plain": [
       "   user_id                   timestamp      group landing_page  converted\n",
       "0   851104  2017-01-21 22:11:48.556739    control     old_page          0\n",
       "1   804228  2017-01-12 08:01:45.159739    control     old_page          0\n",
       "2   661590  2017-01-11 16:55:06.154213  treatment     new_page          0"
      ]
     },
     "execution_count": 2,
     "metadata": {},
     "output_type": "execute_result"
    }
   ],
   "source": [
    "df = pd.read_csv(\"~/Desktop/projects/AB_Testing/ab_data.csv\")\n",
    "df.head(3)"
   ]
  },
  {
   "cell_type": "code",
   "execution_count": 3,
   "metadata": {},
   "outputs": [
    {
     "data": {
      "text/plain": [
       "(294478, 5)"
      ]
     },
     "execution_count": 3,
     "metadata": {},
     "output_type": "execute_result"
    }
   ],
   "source": [
    "df.shape"
   ]
  },
  {
   "cell_type": "markdown",
   "metadata": {},
   "source": [
    "   "
   ]
  },
  {
   "cell_type": "markdown",
   "metadata": {},
   "source": [
    "    "
   ]
  },
  {
   "cell_type": "markdown",
   "metadata": {},
   "source": [
    "## Part 1. Formulate Hypotheses"
   ]
  },
  {
   "cell_type": "markdown",
   "metadata": {},
   "source": [
    "We want to test if different landing page designs lead to different conversion rates of the users."
   ]
  },
  {
   "cell_type": "markdown",
   "metadata": {},
   "source": [
    "We will use __converted__ as our dependent variable. This is a binary indicator with the values: \n",
    "- 0: The user bought the product.\n",
    "- 1: The user didn't buy the product."
   ]
  },
  {
   "cell_type": "markdown",
   "metadata": {},
   "source": [
    "#### Hypotheses"
   ]
  },
  {
   "cell_type": "markdown",
   "metadata": {},
   "source": [
    "- Null hypothesis (H0): Customers seeing the new landing page have the same conversion rate as those who see the old landing page design.  \n",
    "- Alternative hypothesis (Ha): Conversion rate for customers seeing the new landing page is different from that of customers seeing the old landing page. "
   ]
  },
  {
   "cell_type": "markdown",
   "metadata": {},
   "source": [
    "   "
   ]
  },
  {
   "cell_type": "markdown",
   "metadata": {},
   "source": [
    "    "
   ]
  },
  {
   "cell_type": "markdown",
   "metadata": {},
   "source": [
    "## Part 2. Clean and Explore Data"
   ]
  },
  {
   "cell_type": "markdown",
   "metadata": {},
   "source": [
    "Before we move on, let's look at the dataset first."
   ]
  },
  {
   "cell_type": "code",
   "execution_count": 4,
   "metadata": {},
   "outputs": [
    {
     "data": {
      "text/html": [
       "<div>\n",
       "<style scoped>\n",
       "    .dataframe tbody tr th:only-of-type {\n",
       "        vertical-align: middle;\n",
       "    }\n",
       "\n",
       "    .dataframe tbody tr th {\n",
       "        vertical-align: top;\n",
       "    }\n",
       "\n",
       "    .dataframe thead th {\n",
       "        text-align: right;\n",
       "    }\n",
       "</style>\n",
       "<table border=\"1\" class=\"dataframe\">\n",
       "  <thead>\n",
       "    <tr style=\"text-align: right;\">\n",
       "      <th>landing_page</th>\n",
       "      <th>new_page</th>\n",
       "      <th>old_page</th>\n",
       "    </tr>\n",
       "    <tr>\n",
       "      <th>group</th>\n",
       "      <th></th>\n",
       "      <th></th>\n",
       "    </tr>\n",
       "  </thead>\n",
       "  <tbody>\n",
       "    <tr>\n",
       "      <th>control</th>\n",
       "      <td>1928</td>\n",
       "      <td>145274</td>\n",
       "    </tr>\n",
       "    <tr>\n",
       "      <th>treatment</th>\n",
       "      <td>145311</td>\n",
       "      <td>1965</td>\n",
       "    </tr>\n",
       "  </tbody>\n",
       "</table>\n",
       "</div>"
      ],
      "text/plain": [
       "landing_page  new_page  old_page\n",
       "group                           \n",
       "control           1928    145274\n",
       "treatment       145311      1965"
      ]
     },
     "execution_count": 4,
     "metadata": {},
     "output_type": "execute_result"
    }
   ],
   "source": [
    "# Check if users experienced only one version of landing page\n",
    "pd.crosstab(df['group'], df['landing_page'])"
   ]
  },
  {
   "cell_type": "markdown",
   "metadata": {},
   "source": [
    "There are some users who experienced both the old and new landing page. Luckily, they are fewer than 4000 users. Let's remove them from the data."
   ]
  },
  {
   "cell_type": "code",
   "execution_count": 5,
   "metadata": {},
   "outputs": [
    {
     "data": {
      "text/html": [
       "<div>\n",
       "<style scoped>\n",
       "    .dataframe tbody tr th:only-of-type {\n",
       "        vertical-align: middle;\n",
       "    }\n",
       "\n",
       "    .dataframe tbody tr th {\n",
       "        vertical-align: top;\n",
       "    }\n",
       "\n",
       "    .dataframe thead th {\n",
       "        text-align: right;\n",
       "    }\n",
       "</style>\n",
       "<table border=\"1\" class=\"dataframe\">\n",
       "  <thead>\n",
       "    <tr style=\"text-align: right;\">\n",
       "      <th>landing_page</th>\n",
       "      <th>new_page</th>\n",
       "      <th>old_page</th>\n",
       "    </tr>\n",
       "    <tr>\n",
       "      <th>group</th>\n",
       "      <th></th>\n",
       "      <th></th>\n",
       "    </tr>\n",
       "  </thead>\n",
       "  <tbody>\n",
       "    <tr>\n",
       "      <th>control</th>\n",
       "      <td>0</td>\n",
       "      <td>143293</td>\n",
       "    </tr>\n",
       "    <tr>\n",
       "      <th>treatment</th>\n",
       "      <td>143397</td>\n",
       "      <td>0</td>\n",
       "    </tr>\n",
       "  </tbody>\n",
       "</table>\n",
       "</div>"
      ],
      "text/plain": [
       "landing_page  new_page  old_page\n",
       "group                           \n",
       "control              0    143293\n",
       "treatment       143397         0"
      ]
     },
     "execution_count": 5,
     "metadata": {},
     "output_type": "execute_result"
    }
   ],
   "source": [
    "# Let's remove users who experienced both versions of landing page\n",
    "version_counts = df['user_id'].value_counts()\n",
    "drop_users = version_counts[version_counts > 1].index\n",
    "df = df[~df['user_id'].isin(drop_users)]\n",
    "\n",
    "pd.crosstab(df['group'], df['landing_page'])"
   ]
  },
  {
   "cell_type": "code",
   "execution_count": 6,
   "metadata": {},
   "outputs": [
    {
     "name": "stdout",
     "output_type": "stream",
     "text": [
      "There are 286690 records in the dataset.\n",
      "Dataset is unique by users.\n"
     ]
    }
   ],
   "source": [
    "# Check if the dataset is unique at the user level.\n",
    "unique_users = df['user_id'].nunique() # number of user id's\n",
    "row_count = df.shape[0] # number of rows\n",
    "\n",
    "print(f'There are {row_count} records in the dataset.')\n",
    "if unique_users == row_count:\n",
    "    print('Dataset is unique by users.')\n",
    "else:\n",
    "    print('Dataset is not unique by users.')"
   ]
  },
  {
   "cell_type": "markdown",
   "metadata": {},
   "source": [
    "   "
   ]
  },
  {
   "cell_type": "markdown",
   "metadata": {},
   "source": [
    "   "
   ]
  },
  {
   "cell_type": "markdown",
   "metadata": {},
   "source": [
    "## Part 3. Design an Experiment"
   ]
  },
  {
   "cell_type": "markdown",
   "metadata": {},
   "source": [
    "### A. Choose Unit of Diversion"
   ]
  },
  {
   "cell_type": "markdown",
   "metadata": {},
   "source": [
    "We need to define what an individual subject is in the experiment. Three commonly used units of diversion are:\n",
    "1. User ID: This is personally identifiable information for each user, i.e., login ID. So each userID experiences only one of the treatments.\n",
    "2. Anonymous ID (cookie): This is unidentifiable but it can change when users switch browser or device. \n",
    "3. Event: Not a consistent experience for users. This is suitable for non-user-visible changes.    \n",
    "     \n",
    "Based on the goal of A/B testing, we need to choose appropriate units of diversion. We also need to have ethical consideration regarding user consent if experiment is userID-based and thus personally identifiable data is collected.\n",
    "\n",
    "Following the choice of unit of diversion, we also need to consider unit of analysis. When the unit of analysis is different from the unit of diversion, the empricial variability of a metric can be much higher than the analytically computed variability.\n",
    "\n",
    "In our example, our unit of diversion and unit of analysis would both be user ID."
   ]
  },
  {
   "cell_type": "markdown",
   "metadata": {},
   "source": [
    "### B. Choose Target Population"
   ]
  },
  {
   "cell_type": "markdown",
   "metadata": {},
   "source": [
    "We need to decide who we are targeting for the experiment. If we don't want to expose too many users for a new feature that is being tested, then we might want to restrict the population. Or, if we think that certain features would have more impact on certain population group, then we would want to restrict our experiment for that group. This way, we can avoid diluting the effect of the experiment across a global population. However, we might know in advance which group will show effects from the experiment. "
   ]
  },
  {
   "cell_type": "markdown",
   "metadata": {},
   "source": [
    "### C. Choose Sample Size"
   ]
  },
  {
   "cell_type": "markdown",
   "metadata": {},
   "source": [
    "In practice, we need to evaluate how many samples we need to have enough power to detect a significant effect. To calculate the required minimum sample size, we need the baseline estimate and expected effect size. Standard deviation is also required for continuouos outcome variable; but for our case, we have a binary outcome variable whose standard deviation can be easily computed analytically.  \n",
    "Given that we don't have data prior to the AB testing, we will use the control group's conversion rate as our baseline rate, for the sake of our analysis.  "
   ]
  },
  {
   "cell_type": "markdown",
   "metadata": {},
   "source": [
    "#### Baseline conversion rate"
   ]
  },
  {
   "cell_type": "markdown",
   "metadata": {},
   "source": [
    "We are making an assumption that control group's conversion rate is the same as the conversion rate before the AB test."
   ]
  },
  {
   "cell_type": "code",
   "execution_count": 7,
   "metadata": {},
   "outputs": [
    {
     "name": "stdout",
     "output_type": "stream",
     "text": [
      "Baseline conversion rate is  12.02%.\n"
     ]
    }
   ],
   "source": [
    "baseline_rate = df['converted'][df['group']=='control'].mean()\n",
    "print(f'Baseline conversion rate is {baseline_rate*100: .2f}%.')"
   ]
  },
  {
   "cell_type": "markdown",
   "metadata": {},
   "source": [
    "#### Effect size"
   ]
  },
  {
   "cell_type": "markdown",
   "metadata": {},
   "source": [
    "Magnitude of difference in the conversion rates we expect to see between our treatment groups. Let's say that the expected change is about 1.5% (__ES = 0.015__). Sometimes, this value is the mangnitude of change the company wants to see, given the time and money invested in the change.  "
   ]
  },
  {
   "cell_type": "markdown",
   "metadata": {},
   "source": [
    "#### Power"
   ]
  },
  {
   "cell_type": "markdown",
   "metadata": {},
   "source": [
    "This is the probability of finding statistical significance between groups when a difference is actually present. __Power of 0.8__ is commonly used. We are also aiming for a 80% power."
   ]
  },
  {
   "cell_type": "markdown",
   "metadata": {},
   "source": [
    "#### Alpha "
   ]
  },
  {
   "cell_type": "markdown",
   "metadata": {},
   "source": [
    "This is the probability of rejecting the null hypothesis when there is no significant difference between groups. This is the critical value used for the test and we will be using a conventional __alpha value of 0.05__."
   ]
  },
  {
   "cell_type": "markdown",
   "metadata": {},
   "source": [
    "#### Sample size"
   ]
  },
  {
   "cell_type": "markdown",
   "metadata": {},
   "source": [
    "Let's graph how sample sizes change with varying minimum detectable effect size, with alpha of 0.05 and power of 0.8. "
   ]
  },
  {
   "cell_type": "code",
   "execution_count": 8,
   "metadata": {
    "scrolled": true
   },
   "outputs": [
    {
     "data": {
      "image/png": "[encoded data removed]",
      "text/plain": [
       "<Figure size 432x288 with 1 Axes>"
      ]
     },
     "metadata": {},
     "output_type": "display_data"
    }
   ],
   "source": [
    "samplesize_list = []\n",
    "\n",
    "deltas = np.arange(0.005, 0.03, 0.001)\n",
    "for delta in deltas:\n",
    "    new_rate = baseline_rate + delta\n",
    "    effect_size = sms.proportion_effectsize(baseline_rate, new_rate)\n",
    "    sample_size = sms.NormalIndPower().solve_power(effect_size=effect_size,\n",
    "                                                   power=0.8,\n",
    "                                                   alpha=0.05,\n",
    "                                                   ratio=1)\n",
    "    samplesize_list.append(sample_size)\n",
    "\n",
    "plt.plot(deltas, samplesize_list)\n",
    "plt.title('Minimum sample size for minimum effect size')\n",
    "plt.ylabel('Required sample size')\n",
    "plt.xlabel('Minimum detectable effect size')\n",
    "plt.show()"
   ]
  },
  {
   "cell_type": "markdown",
   "metadata": {},
   "source": [
    "This plot shows changes in sample sizes given different minimum effect sizes. \n",
    "For the test to detect an effect size as small as 0.5%, it needs at least 60,000 samples in each group.\n",
    "On the other hand, for an effect size of 0.015, we need fewer than 10,000 samples."
   ]
  },
  {
   "cell_type": "code",
   "execution_count": 9,
   "metadata": {},
   "outputs": [
    {
     "name": "stdout",
     "output_type": "stream",
     "text": [
      "To detect an effect size of 0.015, we need at least 7765 samples in each group.\n"
     ]
    }
   ],
   "source": [
    "# Let's calculate the sample size for our expected effect size of 0.015.\n",
    "prob2 = baseline_rate + 0.015\n",
    "effect_size = sms.proportion_effectsize(baseline_rate, prob2)\n",
    "sample_size = ceil(sms.NormalIndPower().solve_power(effect_size=effect_size,power=0.8,alpha=0.05,ratio=1))\n",
    "print(f'To detect an effect size of 0.015, we need at least {sample_size} samples in each group.')"
   ]
  },
  {
   "cell_type": "markdown",
   "metadata": {},
   "source": [
    "In practice, we would have to think about how long we should run the test in order to reach the minimum sample size, considering daily traffic on company's website. \n",
    "Even if daily traffic is very large and we can reach the sample size within a few days, we would want to consider running the test for at least a week in order to capture both weekday and weekend trends. We might also consider assigning more traffic/users to control groups. \n",
    "\n",
    "In our dataset, we have more than 200,000 observations and the minimum sample size requirement is easily met."
   ]
  },
  {
   "cell_type": "markdown",
   "metadata": {},
   "source": [
    "   "
   ]
  },
  {
   "cell_type": "markdown",
   "metadata": {},
   "source": [
    "   "
   ]
  },
  {
   "cell_type": "markdown",
   "metadata": {},
   "source": [
    "## Part 4. Analyze the Results"
   ]
  },
  {
   "cell_type": "markdown",
   "metadata": {},
   "source": [
    "### A. Chi-Square Test"
   ]
  },
  {
   "cell_type": "markdown",
   "metadata": {},
   "source": [
    "Since our outcome variable is binary, it follows a bernoulli distribution. Therefore, we can use a chi-square test.    \n",
    "A chi-square test is used when exploring relationship between two categorical variables."
   ]
  },
  {
   "cell_type": "code",
   "execution_count": 10,
   "metadata": {},
   "outputs": [],
   "source": [
    "# Organize data to run chi-square test\n",
    "cont = df[df['group']=='control']\n",
    "treat = df[df['group']=='treatment']\n",
    "\n",
    "cont_conv = cont['converted'].sum()\n",
    "cont_noconv = cont['converted'].shape[0] - cont_conv\n",
    "\n",
    "treat_conv = treat['converted'].sum()\n",
    "treat_noconv = treat['converted'].shape[0] - treat_conv\n",
    "\n",
    "# Rearrange numbers into an array\n",
    "T = np.array([[cont_conv, cont_noconv], [treat_conv, treat_noconv]])"
   ]
  },
  {
   "cell_type": "code",
   "execution_count": 11,
   "metadata": {},
   "outputs": [
    {
     "name": "stdout",
     "output_type": "stream",
     "text": [
      "0.23228827305833816\n"
     ]
    }
   ],
   "source": [
    "# Run chi-square test\n",
    "print(stats.chi2_contingency(T,correction=False)[1])"
   ]
  },
  {
   "cell_type": "markdown",
   "metadata": {},
   "source": [
    "The p-value of .23 is much bigger than our critical value of 0.05. This means that we fail to reject the null hypothesis and conclude that there is no significant difference in user conversion rates between the old and new landing page designs."
   ]
  },
  {
   "cell_type": "markdown",
   "metadata": {},
   "source": [
    "### B. Confidence Interval"
   ]
  },
  {
   "cell_type": "markdown",
   "metadata": {},
   "source": [
    "Estimating 95% confidence interval is another way to evaluate the test. We are going to construct the confidence interval for our observed difference and see if the expected difference falls within the interval."
   ]
  },
  {
   "cell_type": "code",
   "execution_count": 12,
   "metadata": {},
   "outputs": [
    {
     "name": "stdout",
     "output_type": "stream",
     "text": [
      "Difference in conversion rate between group is -0.0014.\n",
      "The 95% interval is [-0.0038, 0.0009].\n"
     ]
    }
   ],
   "source": [
    "# Sample size - control\n",
    "N_cont = cont.shape[0]\n",
    "X_cont = cont_conv\n",
    "\n",
    "# Sample size - treatment \n",
    "N_treat = treat.shape[0]\n",
    "X_treat = treat_conv\n",
    "\n",
    "# Difference in proportions\n",
    "diff = X_treat/N_treat - X_cont/N_cont\n",
    "\n",
    "# Pooled probability: total number of conversion / total number of users\n",
    "pooled_prob = (X_cont + X_treat) / (N_cont + N_treat) \n",
    "\n",
    "# Pooled standard error\n",
    "pooled_se = np.sqrt((pooled_prob)*(1-pooled_prob)*(1/N_cont + 1/N_treat))\n",
    "\n",
    "# Margin of error\n",
    "m = pooled_se * 1.96\n",
    "\n",
    "# Get bounds for the confidence interval\n",
    "lower_ci = diff - m\n",
    "upper_ci = diff + m \n",
    "\n",
    "print(f'Difference in conversion rate between group is {diff:.4f}.')\n",
    "print(f'The 95% interval is [{lower_ci:.4f}, {upper_ci:.4f}].')"
   ]
  },
  {
   "cell_type": "markdown",
   "metadata": {},
   "source": [
    "The 95% confidence interval includes zero and the expected change of 0.015 is not included in the interval. Therefore, we fail to reject the null hypothesis and concludes that the different landing page designs don't have any statistically significant changes in customer conversion. \n",
    "This coincides with the chi-squared test results. "
   ]
  },
  {
   "cell_type": "markdown",
   "metadata": {},
   "source": [
    "   "
   ]
  },
  {
   "cell_type": "markdown",
   "metadata": {},
   "source": [
    "## Conclusion"
   ]
  },
  {
   "cell_type": "markdown",
   "metadata": {},
   "source": [
    "We've walked through important steps of designing and evaluating A/B testing on user conversion rates. Using both a chi-square test and constructing a 95% confidence interval, we have concluded that the old and new landing page don't affect the user conversion rates significantly. "
   ]
  },
  {
   "cell_type": "markdown",
   "metadata": {},
   "source": [
    "   "
   ]
  },
  {
   "cell_type": "markdown",
   "metadata": {},
   "source": [
    "   "
   ]
  },
  {
   "cell_type": "markdown",
   "metadata": {},
   "source": [
    "   "
   ]
  }
 ],
 "metadata": {
  "kernelspec": {
   "display_name": "Python 3",
   "language": "python",
   "name": "python3"
  },
  "language_info": {
   "codemirror_mode": {
    "name": "ipython",
    "version": 3
   },
   "file_extension": ".py",
   "mimetype": "text/x-python",
   "name": "python",
   "nbconvert_exporter": "python",
   "pygments_lexer": "ipython3",
   "version": "3.6.10"
  }
 },
 "nbformat": 4,
 "nbformat_minor": 2
}
